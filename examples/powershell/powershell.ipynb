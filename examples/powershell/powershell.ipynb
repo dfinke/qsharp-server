{
 "cells": [
  {
   "cell_type": "code",
   "execution_count": null,
   "id": "swiss-breeding",
   "metadata": {
    "dotnet_interactive": {
     "language": "pwsh"
    }
   },
   "outputs": [],
   "source": [
    "Import-Module ./qsharp.psd1"
   ]
  },
  {
   "cell_type": "code",
   "execution_count": null,
   "id": "broadband-checkout",
   "metadata": {
    "dotnet_interactive": {
     "language": "pwsh"
    }
   },
   "outputs": [],
   "source": [
    "Build-QuantumProgram @\"\n",
    "    open Microsoft.Quantum.Diagnostics;\n",
    "    operation SampleQrng() : Bool {\n",
    "        use q = Qubit();\n",
    "        H(q);\n",
    "        DumpMachine();\n",
    "        return M(q) == One;\n",
    "    }\n",
    "\"@"
   ]
  },
  {
   "cell_type": "code",
   "execution_count": null,
   "id": "complimentary-validation",
   "metadata": {
    "dotnet_interactive": {
     "language": "pwsh"
    }
   },
   "outputs": [],
   "source": [
    "Invoke-QuantumProgram SampleQrng -Simulator QuantumSimulator"
   ]
  }
 ],
 "metadata": {
  "kernelspec": {
   "display_name": ".NET (PowerShell)",
   "language": "PowerShell",
   "name": ".net-powershell"
  },
  "language_info": {
   "file_extension": ".ps1",
   "mimetype": "text/x-powershell",
   "name": "PowerShell",
   "pygments_lexer": "powershell",
   "version": "7.0"
  }
 },
 "nbformat": 4,
 "nbformat_minor": 5
}
